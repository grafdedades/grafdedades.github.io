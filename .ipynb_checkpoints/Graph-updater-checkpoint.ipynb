{
 "cells": [
  {
   "cell_type": "code",
   "execution_count": 1,
   "id": "a575ff29",
   "metadata": {},
   "outputs": [],
   "source": [
    "from IPython.display import display\n",
    "import ipywidgets as widgets\n",
    "from tools.graph_update_utils import *"
   ]
  },
  {
   "cell_type": "markdown",
   "id": "b636ee8f",
   "metadata": {},
   "source": [
    "## Desencripta\n",
    "Introdueix la contrassenya per poder desencriptar les dades abans de modificar-les"
   ]
  },
  {
   "cell_type": "code",
   "execution_count": 2,
   "id": "1fd8b62a",
   "metadata": {},
   "outputs": [
    {
     "data": {
      "application/vnd.jupyter.widget-view+json": {
       "model_id": "518681667ff345a4a7d7ec567e0573b9",
       "version_major": 2,
       "version_minor": 0
      },
      "text/plain": [
       "Text(value='', placeholder='Contrassenya')"
      ]
     },
     "metadata": {},
     "output_type": "display_data"
    },
    {
     "data": {
      "application/vnd.jupyter.widget-view+json": {
       "model_id": "46618bbb584340b3b940bcc25b08ba0d",
       "version_major": 2,
       "version_minor": 0
      },
      "text/plain": [
       "Button(description='Desencripta!', style=ButtonStyle())"
      ]
     },
     "metadata": {},
     "output_type": "display_data"
    },
    {
     "name": "stdout",
     "output_type": "stream",
     "text": [
      "Desencriptat!\n"
     ]
    }
   ],
   "source": [
    "display(password)\n",
    "display(decrypt_button)"
   ]
  },
  {
   "cell_type": "markdown",
   "id": "3821d772",
   "metadata": {},
   "source": [
    "## Nou node\n",
    "\n",
    "Omple els atributs d'un node amb els de la nova persona que vols introduïr i clica el botó per a afegir-la! Quan hagis afegit tots els nodes, clica el botó d'encriptar per poder actualitzar el graf."
   ]
  },
  {
   "cell_type": "code",
   "execution_count": null,
   "id": "3c8b3317",
   "metadata": {
    "scrolled": true
   },
   "outputs": [],
   "source": [
    "display(person)\n",
    "display(node_year)\n",
    "display(gender)\n",
    "display(cfis)\n",
    "display(node_button)\n",
    "display(end_button)"
   ]
  },
  {
   "cell_type": "markdown",
   "id": "1453d37d",
   "metadata": {},
   "source": [
    "## Nova aresta\n",
    "\n",
    "Dona-li forma a una nova aresta omplint els atributs amb la informació de la connexió entre nodes que vols introduïr i clica el botó per a afegir-la! Quan hagis afegit totes les arestes, clica el botó d'encriptar per poder actualitzar el graf.\n",
    "\n",
    "> **ATENCIÓ**   \n",
    "Per a afegir una aresta entre dos nodes és necessari que aquests dos siguin ja al graf. Si no ho has fet, fes-ho al apartat anterior, assegura't d'encriptar les dades i fes un `restart` del *Notebook*."
   ]
  },
  {
   "cell_type": "code",
   "execution_count": 4,
   "id": "9d76adcb",
   "metadata": {},
   "outputs": [
    {
     "data": {
      "application/vnd.jupyter.widget-view+json": {
       "model_id": "03df8332b58c4f3891d3a939ba627c4a",
       "version_major": 2,
       "version_minor": 0
      },
      "text/plain": [
       "Dropdown(description='Person 1:', options=('Adrián Cerezuela', 'Aida Santacreu', 'Aida Torres', 'Aina Luis', '…"
      ]
     },
     "metadata": {},
     "output_type": "display_data"
    },
    {
     "data": {
      "application/vnd.jupyter.widget-view+json": {
       "model_id": "078fd2cfc2b046b99240f8b4f16a6717",
       "version_major": 2,
       "version_minor": 0
      },
      "text/plain": [
       "Dropdown(description='Person 2:', options=('Adrián Cerezuela', 'Aida Santacreu', 'Aida Torres', 'Aina Luis', '…"
      ]
     },
     "metadata": {},
     "output_type": "display_data"
    },
    {
     "data": {
      "application/vnd.jupyter.widget-view+json": {
       "model_id": "24131390df154ef8bb70bc7b349170c3",
       "version_major": 2,
       "version_minor": 0
      },
      "text/plain": [
       "Dropdown(description='Punts: ', options=(('Lio', 1), ('Manual', 2), ('Oral', 3), ('Complert', 5)), value=1)"
      ]
     },
     "metadata": {},
     "output_type": "display_data"
    },
    {
     "data": {
      "application/vnd.jupyter.widget-view+json": {
       "model_id": "d917b75ce7874f0f9e17810403d65601",
       "version_major": 2,
       "version_minor": 0
      },
      "text/plain": [
       "Text(value='', description='Lloc:', placeholder='On va passar?')"
      ]
     },
     "metadata": {},
     "output_type": "display_data"
    },
    {
     "data": {
      "application/vnd.jupyter.widget-view+json": {
       "model_id": "6d5902e66a844bd6b1d24820a5e6a9e9",
       "version_major": 2,
       "version_minor": 0
      },
      "text/plain": [
       "Dropdown(description='Mes:', options=(('Gener', 'Jan'), ('Febrer', 'Feb'), ('Març', 'Mar'), ('Abril', 'Apr'), …"
      ]
     },
     "metadata": {},
     "output_type": "display_data"
    },
    {
     "data": {
      "application/vnd.jupyter.widget-view+json": {
       "model_id": "313150b406814b7aa2625bc8a851b504",
       "version_major": 2,
       "version_minor": 0
      },
      "text/plain": [
       "BoundedIntText(value=2017, description='Any:', max=2025, min=2017)"
      ]
     },
     "metadata": {},
     "output_type": "display_data"
    },
    {
     "data": {
      "application/vnd.jupyter.widget-view+json": {
       "model_id": "363bb541a6a949cd9a116aa6c2d49460",
       "version_major": 2,
       "version_minor": 0
      },
      "text/plain": [
       "Checkbox(value=False, description='Van repetir?')"
      ]
     },
     "metadata": {},
     "output_type": "display_data"
    },
    {
     "data": {
      "application/vnd.jupyter.widget-view+json": {
       "model_id": "171a6cdd43a94db2a6c5ef7c3c9b630d",
       "version_major": 2,
       "version_minor": 0
      },
      "text/plain": [
       "Checkbox(value=False, description='Tenen o han tingut una relació?')"
      ]
     },
     "metadata": {},
     "output_type": "display_data"
    },
    {
     "data": {
      "application/vnd.jupyter.widget-view+json": {
       "model_id": "efc860479eb94b49b955fd13f02c3f01",
       "version_major": 2,
       "version_minor": 0
      },
      "text/plain": [
       "Checkbox(value=True, description=\"El que vols és eliminar l'aresta?\")"
      ]
     },
     "metadata": {},
     "output_type": "display_data"
    },
    {
     "data": {
      "application/vnd.jupyter.widget-view+json": {
       "model_id": "add5bf0cfeb34359b40863428e889aec",
       "version_major": 2,
       "version_minor": 0
      },
      "text/plain": [
       "Button(description=\"Afegeix l'aresta!\", style=ButtonStyle())"
      ]
     },
     "metadata": {},
     "output_type": "display_data"
    },
    {
     "data": {
      "application/vnd.jupyter.widget-view+json": {
       "model_id": "d3edf3a953dd4a13b7dde9d05a5df723",
       "version_major": 2,
       "version_minor": 0
      },
      "text/plain": [
       "Button(description='Encripta!', style=ButtonStyle())"
      ]
     },
     "metadata": {},
     "output_type": "display_data"
    }
   ],
   "source": [
    "person1, person2, unwanted_person = get_persons()\n",
    "display(person1)\n",
    "display(person2)\n",
    "display(points)\n",
    "display(location)\n",
    "display(month)\n",
    "display(edge_year)\n",
    "display(repetition)\n",
    "display(relationship)\n",
    "display(remove)\n",
    "display(edge_button)\n",
    "display(end_button)"
   ]
  },
  {
   "cell_type": "markdown",
   "id": "70606d21",
   "metadata": {},
   "source": [
    "## Anonimitzar node\n",
    "\n",
    "Si no vols sortir més al graf, en primer lloc dona-li un parell de voltes més a veure si canvies d'opinió. Si és una altra persona la que t'ha dit que vol deixar de sortir-hi intenta-la convencèr del contrari. Si cap de les anteriors acaba resultant i segueix o segueixes volent desaparèixer del graf, escull el teu/seu nom, clica al botó i encripta les dades de nou."
   ]
  },
  {
   "cell_type": "code",
   "execution_count": null,
   "id": "382d53bc",
   "metadata": {},
   "outputs": [],
   "source": [
    "person1, person2, unwanted_person = get_persons()\n",
    "display(unwanted_person)\n",
    "display(unwanted_button)\n",
    "display(end_button)"
   ]
  },
  {
   "cell_type": "code",
   "execution_count": null,
   "id": "4305ab12",
   "metadata": {},
   "outputs": [],
   "source": []
  }
 ],
 "metadata": {
  "kernelspec": {
   "display_name": "Python 3 (ipykernel)",
   "language": "python",
   "name": "python3"
  },
  "language_info": {
   "codemirror_mode": {
    "name": "ipython",
    "version": 3
   },
   "file_extension": ".py",
   "mimetype": "text/x-python",
   "name": "python",
   "nbconvert_exporter": "python",
   "pygments_lexer": "ipython3",
   "version": "3.8.10"
  }
 },
 "nbformat": 4,
 "nbformat_minor": 5
}
