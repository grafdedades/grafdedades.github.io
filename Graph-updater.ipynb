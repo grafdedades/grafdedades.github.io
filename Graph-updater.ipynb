{
 "cells": [
  {
   "cell_type": "code",
   "execution_count": 1,
   "id": "a575ff29",
   "metadata": {},
   "outputs": [],
   "source": [
    "from IPython.display import display\n",
    "import ipywidgets as widgets\n",
    "from tools.graph_update_utils import *"
   ]
  },
  {
   "cell_type": "markdown",
   "id": "b636ee8f",
   "metadata": {},
   "source": [
    "## Desencripta\n",
    "Introdueix la contrassenya per poder desencriptar les dades abans de modificar-les"
   ]
  },
  {
   "cell_type": "code",
   "execution_count": 2,
   "id": "1fd8b62a",
   "metadata": {},
   "outputs": [
    {
     "data": {
      "application/vnd.jupyter.widget-view+json": {
       "model_id": "603d14593adf4dd08f7e96e91edcd10f",
       "version_major": 2,
       "version_minor": 0
      },
      "text/plain": [
       "Text(value='', placeholder='Contrassenya')"
      ]
     },
     "metadata": {},
     "output_type": "display_data"
    },
    {
     "data": {
      "application/vnd.jupyter.widget-view+json": {
       "model_id": "9cfac17ff00f4073a19e975b08e76975",
       "version_major": 2,
       "version_minor": 0
      },
      "text/plain": [
       "Button(description='Desencripta!', style=ButtonStyle())"
      ]
     },
     "metadata": {},
     "output_type": "display_data"
    },
    {
     "name": "stdout",
     "output_type": "stream",
     "text": [
      "Desencriptat!\n"
     ]
    }
   ],
   "source": [
    "display(password)\n",
    "display(decrypt_button)"
   ]
  },
  {
   "cell_type": "markdown",
   "id": "3821d772",
   "metadata": {},
   "source": [
    "## Nou node\n",
    "\n",
    "Omple els atributs d'un node amb els de la nova persona que vols introduïr i clica el botó per a afegir-la! Quan hagis afegit tots els nodes, clica el botó d'encriptar per poder actualitzar el graf."
   ]
  },
  {
   "cell_type": "code",
   "execution_count": 3,
   "id": "3c8b3317",
   "metadata": {
    "scrolled": false
   },
   "outputs": [
    {
     "data": {
      "application/vnd.jupyter.widget-view+json": {
       "model_id": "37fdb8c55a9b483fb714a5ff9163b2d6",
       "version_major": 2,
       "version_minor": 0
      },
      "text/plain": [
       "Text(value='', description='Nom:', placeholder='Com es diu?')"
      ]
     },
     "metadata": {},
     "output_type": "display_data"
    },
    {
     "data": {
      "application/vnd.jupyter.widget-view+json": {
       "model_id": "a45efeb66fe6472cb1207a0631115e0a",
       "version_major": 2,
       "version_minor": 0
      },
      "text/plain": [
       "BoundedIntText(value=2017, description='Any: ', max=2030, min=2017)"
      ]
     },
     "metadata": {},
     "output_type": "display_data"
    },
    {
     "data": {
      "application/vnd.jupyter.widget-view+json": {
       "model_id": "d5d060eae2134eaf9c13d739c90a0852",
       "version_major": 2,
       "version_minor": 0
      },
      "text/plain": [
       "Dropdown(description='Sexe: ', options=(('Femení', 'F'), ('Masculí', 'M'), ('Altres', '-')), value='F')"
      ]
     },
     "metadata": {},
     "output_type": "display_data"
    },
    {
     "data": {
      "application/vnd.jupyter.widget-view+json": {
       "model_id": "a69f2c43483f4aaaa8509f0c83e19663",
       "version_major": 2,
       "version_minor": 0
      },
      "text/plain": [
       "Checkbox(value=False, description='És CFIS?')"
      ]
     },
     "metadata": {},
     "output_type": "display_data"
    },
    {
     "data": {
      "application/vnd.jupyter.widget-view+json": {
       "model_id": "869a8f22c9a44ecf9ab58686e166c7d9",
       "version_major": 2,
       "version_minor": 0
      },
      "text/plain": [
       "Button(description='Afegeix el node!', style=ButtonStyle())"
      ]
     },
     "metadata": {},
     "output_type": "display_data"
    },
    {
     "data": {
      "application/vnd.jupyter.widget-view+json": {
       "model_id": "fda9cc244fa94643b8d1158041825aa5",
       "version_major": 2,
       "version_minor": 0
      },
      "text/plain": [
       "Button(description='Encripta!', style=ButtonStyle())"
      ]
     },
     "metadata": {},
     "output_type": "display_data"
    },
    {
     "name": "stdout",
     "output_type": "stream",
     "text": [
      "S'ha afegit el node \"Laura Sáez\" correctament\n",
      "Encriptat!\n"
     ]
    }
   ],
   "source": [
    "display(person)\n",
    "display(node_year)\n",
    "display(gender)\n",
    "display(cfis)\n",
    "display(node_button)\n",
    "display(end_button)"
   ]
  },
  {
   "cell_type": "markdown",
   "id": "1453d37d",
   "metadata": {},
   "source": [
    "## Nova aresta\n",
    "\n",
    "Dona-li forma a una nova aresta omplint els atributs amb la informació de la connexió entre nodes que vols introduïr i clica el botó per a afegir-la! Quan hagis afegit totes les arestes, clica el botó d'encriptar per poder actualitzar el graf.\n",
    "\n",
    "> **ATENCIÓ**   \n",
    "Per a afegir una aresta entre dos nodes és necessari que aquests dos siguin ja al graf. Si no ho has fet, fes-ho al apartat anterior, assegura't d'encriptar les dades i fes un `restart` del *Notebook*."
   ]
  },
  {
   "cell_type": "code",
   "execution_count": 3,
   "id": "1cfadb8b",
   "metadata": {},
   "outputs": [
    {
     "data": {
      "application/vnd.jupyter.widget-view+json": {
       "model_id": "2e71d54719a44a8ab1eb190e362658ab",
       "version_major": 2,
       "version_minor": 0
      },
      "text/plain": [
       "Dropdown(description='Person 1:', options=('Adrián Cerezuela', 'Aida Torres', 'Aina Luis', 'Aina Pérez', 'Alba…"
      ]
     },
     "metadata": {},
     "output_type": "display_data"
    },
    {
     "data": {
      "application/vnd.jupyter.widget-view+json": {
       "model_id": "c99c449e2db841b1a173d638ac93cb15",
       "version_major": 2,
       "version_minor": 0
      },
      "text/plain": [
       "Dropdown(description='Person 2:', options=('Adrián Cerezuela', 'Aida Torres', 'Aina Luis', 'Aina Pérez', 'Alba…"
      ]
     },
     "metadata": {},
     "output_type": "display_data"
    },
    {
     "data": {
      "application/vnd.jupyter.widget-view+json": {
       "model_id": "7094827012414d329a823a10210f9966",
       "version_major": 2,
       "version_minor": 0
      },
      "text/plain": [
       "Dropdown(description='Punts: ', options=(('Lio', 1), ('Manual', 2), ('Oral', 3), ('Complert', 5)), value=1)"
      ]
     },
     "metadata": {},
     "output_type": "display_data"
    },
    {
     "data": {
      "application/vnd.jupyter.widget-view+json": {
       "model_id": "b5655e250d6a40889f967c1ff7f4c8b0",
       "version_major": 2,
       "version_minor": 0
      },
      "text/plain": [
       "Text(value='', description='Lloc:', placeholder='On va passar?')"
      ]
     },
     "metadata": {},
     "output_type": "display_data"
    },
    {
     "data": {
      "application/vnd.jupyter.widget-view+json": {
       "model_id": "13884d982c8f49bab32b991bf0534d81",
       "version_major": 2,
       "version_minor": 0
      },
      "text/plain": [
       "Dropdown(description='Mes:', options=(('Gener', 'Jan'), ('Febrer', 'Feb'), ('Març', 'Mar'), ('Abril', 'Apr'), …"
      ]
     },
     "metadata": {},
     "output_type": "display_data"
    },
    {
     "data": {
      "application/vnd.jupyter.widget-view+json": {
       "model_id": "770550d299b04650af08df92e167c054",
       "version_major": 2,
       "version_minor": 0
      },
      "text/plain": [
       "BoundedIntText(value=2017, description='Any:', max=2025, min=2017)"
      ]
     },
     "metadata": {},
     "output_type": "display_data"
    },
    {
     "data": {
      "application/vnd.jupyter.widget-view+json": {
       "model_id": "813bf1b730164366af38b72040866434",
       "version_major": 2,
       "version_minor": 0
      },
      "text/plain": [
       "Checkbox(value=False, description='Van repetir?')"
      ]
     },
     "metadata": {},
     "output_type": "display_data"
    },
    {
     "data": {
      "application/vnd.jupyter.widget-view+json": {
       "model_id": "0850e244b9014fdcafcec2c84e2b91ad",
       "version_major": 2,
       "version_minor": 0
      },
      "text/plain": [
       "Checkbox(value=False, description='Tenen o han tingut una relació?')"
      ]
     },
     "metadata": {},
     "output_type": "display_data"
    },
    {
     "data": {
      "application/vnd.jupyter.widget-view+json": {
       "model_id": "36eca52bd3ff4b7fbf5690225a263f4d",
       "version_major": 2,
       "version_minor": 0
      },
      "text/plain": [
       "Checkbox(value=False, description=\"El que vols és eliminar l'aresta?\")"
      ]
     },
     "metadata": {},
     "output_type": "display_data"
    },
    {
     "data": {
      "application/vnd.jupyter.widget-view+json": {
       "model_id": "d35322a1ad4b4d1a9c59acfd278fd4f3",
       "version_major": 2,
       "version_minor": 0
      },
      "text/plain": [
       "Button(description=\"Afegeix l'aresta!\", style=ButtonStyle())"
      ]
     },
     "metadata": {},
     "output_type": "display_data"
    },
    {
     "data": {
      "application/vnd.jupyter.widget-view+json": {
       "model_id": "9c92a6f5adbd44569a7ef3009c6e8dcf",
       "version_major": 2,
       "version_minor": 0
      },
      "text/plain": [
       "Button(description='Encripta!', style=ButtonStyle())"
      ]
     },
     "metadata": {},
     "output_type": "display_data"
    }
   ],
   "source": [
    "person1, person2, unwanted_person = get_persons()\n",
    "display(person1)\n",
    "display(person2)\n",
    "display(points)\n",
    "display(location)\n",
    "display(month)\n",
    "display(edge_year)\n",
    "display(repetition)\n",
    "display(relationship)\n",
    "display(remove)\n",
    "display(edge_button)\n",
    "display(end_button)"
   ]
  },
  {
   "cell_type": "markdown",
   "id": "70606d21",
   "metadata": {},
   "source": [
    "## Anonimitzar node\n",
    "\n",
    "Si no vols sortir més al graf, en primer lloc dona-li un parell de voltes més a veure si canvies d'opinió. Si és una altra persona la que t'ha dit que vol deixar de sortir-hi intenta-la convencèr del contrari. Si cap de les anteriors acaba resultant i segueix o segueixes volent desaparèixer del graf, escull el teu/seu nom, clica al botó i encripta les dades de nou."
   ]
  },
  {
   "cell_type": "code",
   "execution_count": null,
   "id": "382d53bc",
   "metadata": {},
   "outputs": [],
   "source": [
    "person1, person2, unwanted_person = get_persons()\n",
    "display(unwanted_person)\n",
    "display(unwanted_button)\n",
    "display(end_button)"
   ]
  },
  {
   "cell_type": "code",
   "execution_count": null,
   "id": "4305ab12",
   "metadata": {},
   "outputs": [],
   "source": []
  }
 ],
 "metadata": {
  "kernelspec": {
   "display_name": "Python 3 (ipykernel)",
   "language": "python",
   "name": "python3"
  },
  "language_info": {
   "codemirror_mode": {
    "name": "ipython",
    "version": 3
   },
   "file_extension": ".py",
   "mimetype": "text/x-python",
   "name": "python",
   "nbconvert_exporter": "python",
   "pygments_lexer": "ipython3",
   "version": "3.8.10"
  }
 },
 "nbformat": 4,
 "nbformat_minor": 5
}
