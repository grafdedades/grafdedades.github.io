{
 "cells": [
  {
   "cell_type": "code",
   "execution_count": null,
   "id": "a575ff29",
   "metadata": {},
   "outputs": [],
   "source": [
    "from IPython.display import display\n",
    "import ipywidgets as widgets\n",
    "from tools.graph_update_utils import *"
   ]
  },
  {
   "cell_type": "markdown",
   "id": "3821d772",
   "metadata": {},
   "source": [
    "## Nou node\n",
    "\n",
    "Omple els atributs d'un node amb els de la nova persona que vols introduïr i clica el botó per a afegir-la al graf!"
   ]
  },
  {
   "cell_type": "code",
   "execution_count": null,
   "id": "3c8b3317",
   "metadata": {
    "scrolled": false
   },
   "outputs": [],
   "source": [
    "display(person)\n",
    "display(node_year)\n",
    "display(gender)\n",
    "display(cfis)\n",
    "display(node_button)"
   ]
  },
  {
   "cell_type": "markdown",
   "id": "1453d37d",
   "metadata": {},
   "source": [
    "## Nova aresta\n",
    "\n",
    "Dona-li forma a una nova aresta omplint els atributs amb la informació de la connexió entre nodes que vols introduïr i clica el botó per a afegir-la al graf!\n",
    "\n",
    "> **ATENCIÓ**   \n",
    "Per a afegir una aresta entre dos nodes és necessari que aquests dos siguin ja al graf. Si no ho has fet, fes-ho al apartat anterior. Si ja ho has fet i no apareixen al desplegable fes un `restart` del *Notebook*."
   ]
  },
  {
   "cell_type": "code",
   "execution_count": null,
   "id": "1cfadb8b",
   "metadata": {},
   "outputs": [],
   "source": [
    "display(person1)\n",
    "display(person2)\n",
    "display(points)\n",
    "display(location)\n",
    "display(month)\n",
    "display(edge_year)\n",
    "display(repetition)\n",
    "display(relationship)\n",
    "display(edge_button)"
   ]
  },
  {
   "cell_type": "markdown",
   "id": "70606d21",
   "metadata": {},
   "source": [
    "## Anonimitzar node\n",
    "\n",
    "Si no vols sortir més al graf, en primer lloc dona-li un parell de voltes més a veure si canvies d'opinió. Si és una altra persona la que t'ha dit que vol deixar de sortir-hi intenta-la convencèr del contrari. Si cap de les anteriors acaba resultant i segueix o segueixes volent desaparèixer del graf, escull el teu/seu nom i clica al botó."
   ]
  },
  {
   "cell_type": "code",
   "execution_count": null,
   "id": "382d53bc",
   "metadata": {},
   "outputs": [],
   "source": [
    "display(unwanted_person)\n",
    "display(unwanted_button)"
   ]
  }
 ],
 "metadata": {
  "kernelspec": {
   "display_name": "Python 3 (ipykernel)",
   "language": "python",
   "name": "python3"
  },
  "language_info": {
   "codemirror_mode": {
    "name": "ipython",
    "version": 3
   },
   "file_extension": ".py",
   "mimetype": "text/x-python",
   "name": "python",
   "nbconvert_exporter": "python",
   "pygments_lexer": "ipython3",
   "version": "3.9.10"
  }
 },
 "nbformat": 4,
 "nbformat_minor": 5
}
