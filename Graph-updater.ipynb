{
 "cells": [
  {
   "cell_type": "code",
   "execution_count": 1,
   "id": "a575ff29",
   "metadata": {},
   "outputs": [],
   "source": [
    "from IPython.display import display\n",
    "import ipywidgets as widgets\n",
    "from tools.graph_update_utils import *"
   ]
  },
  {
   "cell_type": "markdown",
   "id": "b636ee8f",
   "metadata": {},
   "source": [
    "## Desencripta\n",
    "Introdueix la contrassenya per poder desencriptar les dades abans de modificar-les"
   ]
  },
  {
   "cell_type": "code",
   "execution_count": 2,
   "id": "1fd8b62a",
   "metadata": {},
   "outputs": [
    {
     "data": {
      "application/vnd.jupyter.widget-view+json": {
       "model_id": "526da9d2ec7e43d3a3e56079463def0b",
       "version_major": 2,
       "version_minor": 0
      },
      "text/plain": [
       "Text(value='', placeholder='Contrassenya')"
      ]
     },
     "metadata": {},
     "output_type": "display_data"
    },
    {
     "data": {
      "application/vnd.jupyter.widget-view+json": {
       "model_id": "e58297766fcc4910a283370261171271",
       "version_major": 2,
       "version_minor": 0
      },
      "text/plain": [
       "Button(description='Desencripta!', style=ButtonStyle())"
      ]
     },
     "metadata": {},
     "output_type": "display_data"
    },
    {
     "name": "stdout",
     "output_type": "stream",
     "text": [
      "Desencriptat!\n"
     ]
    }
   ],
   "source": [
    "display(password)\n",
    "display(decrypt_button)"
   ]
  },
  {
   "cell_type": "markdown",
   "id": "3821d772",
   "metadata": {},
   "source": [
    "## Nou node\n",
    "\n",
    "Omple els atributs d'un node amb els de la nova persona que vols introduïr i clica el botó per a afegir-la! Quan hagis afegit tots els nodes, clica el botó d'encriptar per poder actualitzar el graf."
   ]
  },
  {
   "cell_type": "code",
   "execution_count": 3,
   "id": "3c8b3317",
   "metadata": {
    "scrolled": true
   },
   "outputs": [
    {
     "data": {
      "application/vnd.jupyter.widget-view+json": {
       "model_id": "65a6e6591ca64fee8b55937233b940f7",
       "version_major": 2,
       "version_minor": 0
      },
      "text/plain": [
       "Text(value='', description='Nom:', placeholder='Com es diu?')"
      ]
     },
     "metadata": {},
     "output_type": "display_data"
    },
    {
     "data": {
      "application/vnd.jupyter.widget-view+json": {
       "model_id": "30985b114e7c449287a4cd62ab22ade6",
       "version_major": 2,
       "version_minor": 0
      },
      "text/plain": [
       "BoundedIntText(value=2017, description='Any: ', max=2030, min=2017)"
      ]
     },
     "metadata": {},
     "output_type": "display_data"
    },
    {
     "data": {
      "application/vnd.jupyter.widget-view+json": {
       "model_id": "8e89e65a1b534d96995a3f55d171864e",
       "version_major": 2,
       "version_minor": 0
      },
      "text/plain": [
       "Dropdown(description='Sexe: ', options=(('Femení', 'F'), ('Masculí', 'M'), ('Altres', '-')), value='F')"
      ]
     },
     "metadata": {},
     "output_type": "display_data"
    },
    {
     "data": {
      "application/vnd.jupyter.widget-view+json": {
       "model_id": "4e0a055396464456b0b1d80ea6397bb9",
       "version_major": 2,
       "version_minor": 0
      },
      "text/plain": [
       "Checkbox(value=False, description='És CFIS?')"
      ]
     },
     "metadata": {},
     "output_type": "display_data"
    },
    {
     "data": {
      "application/vnd.jupyter.widget-view+json": {
       "model_id": "ec01819ccb924d73a8ab9b9c48fefa29",
       "version_major": 2,
       "version_minor": 0
      },
      "text/plain": [
       "Button(description='Afegeix el node!', style=ButtonStyle())"
      ]
     },
     "metadata": {},
     "output_type": "display_data"
    },
    {
     "data": {
      "application/vnd.jupyter.widget-view+json": {
       "model_id": "da1f1a85f4ce4ba9a0a34ea5179dbd9a",
       "version_major": 2,
       "version_minor": 0
      },
      "text/plain": [
       "Button(description='Encripta!', style=ButtonStyle())"
      ]
     },
     "metadata": {},
     "output_type": "display_data"
    },
    {
     "name": "stdout",
     "output_type": "stream",
     "text": [
      "S'ha afegit el node \"Oriol Monge\" correctament\n",
      "Encriptat!\n"
     ]
    }
   ],
   "source": [
    "display(person)\n",
    "display(node_year)\n",
    "display(gender)\n",
    "display(cfis)\n",
    "display(node_button)\n",
    "display(end_button)"
   ]
  },
  {
   "cell_type": "markdown",
   "id": "1453d37d",
   "metadata": {},
   "source": [
    "## Nova aresta\n",
    "\n",
    "Dona-li forma a una nova aresta omplint els atributs amb la informació de la connexió entre nodes que vols introduïr i clica el botó per a afegir-la! Quan hagis afegit totes les arestes, clica el botó d'encriptar per poder actualitzar el graf.\n",
    "\n",
    "> **ATENCIÓ**   \n",
    "Per a afegir una aresta entre dos nodes és necessari que aquests dos siguin ja al graf. Si no ho has fet, fes-ho al apartat anterior, assegura't d'encriptar les dades i fes un `restart` del *Notebook*."
   ]
  },
  {
   "cell_type": "code",
   "execution_count": 5,
   "id": "9d76adcb",
   "metadata": {},
   "outputs": [
    {
     "data": {
      "application/vnd.jupyter.widget-view+json": {
       "model_id": "3fc3981286114416819689a4a25b2c07",
       "version_major": 2,
       "version_minor": 0
      },
      "text/plain": [
       "Dropdown(description='Person 1:', options=('Adrià Capdevila', 'Adrián Cerezuela', 'Aida Torres', 'Aina Luis', …"
      ]
     },
     "metadata": {},
     "output_type": "display_data"
    },
    {
     "data": {
      "application/vnd.jupyter.widget-view+json": {
       "model_id": "207d694d9d03462c9f1eba16282c3d5c",
       "version_major": 2,
       "version_minor": 0
      },
      "text/plain": [
       "Dropdown(description='Person 2:', options=('Adrià Capdevila', 'Adrián Cerezuela', 'Aida Torres', 'Aina Luis', …"
      ]
     },
     "metadata": {},
     "output_type": "display_data"
    },
    {
     "data": {
      "application/vnd.jupyter.widget-view+json": {
       "model_id": "e12ea63fef904b84b10fc802f0c80d8f",
       "version_major": 2,
       "version_minor": 0
      },
      "text/plain": [
       "Dropdown(description='Punts: ', options=(('Lio', 1), ('Manual', 2), ('Oral', 3), ('Complert', 5)), value=1)"
      ]
     },
     "metadata": {},
     "output_type": "display_data"
    },
    {
     "data": {
      "application/vnd.jupyter.widget-view+json": {
       "model_id": "8a4b4b9d80524f94913bfedc73d4e47b",
       "version_major": 2,
       "version_minor": 0
      },
      "text/plain": [
       "Text(value='Razz', description='Lloc:', placeholder='On va passar?')"
      ]
     },
     "metadata": {},
     "output_type": "display_data"
    },
    {
     "data": {
      "application/vnd.jupyter.widget-view+json": {
       "model_id": "8373a5d7b3964ce9804e546c5dee26b0",
       "version_major": 2,
       "version_minor": 0
      },
      "text/plain": [
       "Dropdown(description='Mes:', index=10, options=(('Gener', 'Jan'), ('Febrer', 'Feb'), ('Març', 'Mar'), ('Abril'…"
      ]
     },
     "metadata": {},
     "output_type": "display_data"
    },
    {
     "data": {
      "application/vnd.jupyter.widget-view+json": {
       "model_id": "b29cdd7b64434f5a910d9681c8e818db",
       "version_major": 2,
       "version_minor": 0
      },
      "text/plain": [
       "BoundedIntText(value=2022, description='Any:', max=2025, min=2017)"
      ]
     },
     "metadata": {},
     "output_type": "display_data"
    },
    {
     "data": {
      "application/vnd.jupyter.widget-view+json": {
       "model_id": "4118838dd92347aca9967c8d5006731b",
       "version_major": 2,
       "version_minor": 0
      },
      "text/plain": [
       "Checkbox(value=False, description='Van repetir?')"
      ]
     },
     "metadata": {},
     "output_type": "display_data"
    },
    {
     "data": {
      "application/vnd.jupyter.widget-view+json": {
       "model_id": "2ba6d90ac7b14488a521f4188f7627fc",
       "version_major": 2,
       "version_minor": 0
      },
      "text/plain": [
       "Checkbox(value=False, description='Tenen o han tingut una relació?')"
      ]
     },
     "metadata": {},
     "output_type": "display_data"
    },
    {
     "data": {
      "application/vnd.jupyter.widget-view+json": {
       "model_id": "07500b0272e24592b583c5e4f8bcf8fa",
       "version_major": 2,
       "version_minor": 0
      },
      "text/plain": [
       "Checkbox(value=False, description=\"El que vols és eliminar l'aresta?\")"
      ]
     },
     "metadata": {},
     "output_type": "display_data"
    },
    {
     "data": {
      "application/vnd.jupyter.widget-view+json": {
       "model_id": "c6c885afc8864f68a4ddbeb25ecf04af",
       "version_major": 2,
       "version_minor": 0
      },
      "text/plain": [
       "Button(description=\"Afegeix l'aresta!\", style=ButtonStyle())"
      ]
     },
     "metadata": {},
     "output_type": "display_data"
    },
    {
     "data": {
      "application/vnd.jupyter.widget-view+json": {
       "model_id": "0e4f6ff607894c5e9997f04eda2c625d",
       "version_major": 2,
       "version_minor": 0
      },
      "text/plain": [
       "Button(description='Encripta!', style=ButtonStyle())"
      ]
     },
     "metadata": {},
     "output_type": "display_data"
    },
    {
     "name": "stdout",
     "output_type": "stream",
     "text": [
      "La aresta entre els nodes \"Queralt Benito\" i \"Marc de Gràcia\" ha estat eliminada amb èxit\n",
      "Encriptat!\n"
     ]
    }
   ],
   "source": [
    "person1, person2, unwanted_person = get_persons()\n",
    "display(person1)\n",
    "display(person2)\n",
    "display(points)\n",
    "display(location)\n",
    "display(month)\n",
    "display(edge_year)\n",
    "display(repetition)\n",
    "display(relationship)\n",
    "display(remove)\n",
    "display(edge_button)\n",
    "display(end_button)"
   ]
  },
  {
   "cell_type": "markdown",
   "id": "70606d21",
   "metadata": {},
   "source": [
    "## Anonimitzar node\n",
    "\n",
    "Si no vols sortir més al graf, en primer lloc dona-li un parell de voltes més a veure si canvies d'opinió. Si és una altra persona la que t'ha dit que vol deixar de sortir-hi intenta-la convencèr del contrari. Si cap de les anteriors acaba resultant i segueix o segueixes volent desaparèixer del graf, escull el teu/seu nom, clica al botó i encripta les dades de nou."
   ]
  },
  {
   "cell_type": "code",
   "execution_count": null,
   "id": "382d53bc",
   "metadata": {},
   "outputs": [],
   "source": [
    "person1, person2, unwanted_person = get_persons()\n",
    "display(unwanted_person)\n",
    "display(unwanted_button)\n",
    "display(end_button)"
   ]
  },
  {
   "cell_type": "code",
   "execution_count": null,
   "id": "4305ab12",
   "metadata": {},
   "outputs": [],
   "source": []
  }
 ],
 "metadata": {
  "kernelspec": {
   "display_name": "Python 3 (ipykernel)",
   "language": "python",
   "name": "python3"
  },
  "language_info": {
   "codemirror_mode": {
    "name": "ipython",
    "version": 3
   },
   "file_extension": ".py",
   "mimetype": "text/x-python",
   "name": "python",
   "nbconvert_exporter": "python",
   "pygments_lexer": "ipython3",
   "version": "3.8.10"
  }
 },
 "nbformat": 4,
 "nbformat_minor": 5
}
